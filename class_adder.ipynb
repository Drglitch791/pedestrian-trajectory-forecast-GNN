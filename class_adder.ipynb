{
 "cells": [
  {
   "cell_type": "code",
   "execution_count": 1,
   "metadata": {},
   "outputs": [],
   "source": [
    "import os\n",
    "import numpy as np\n",
    "\n",
    "path = \"datasets/eth\"\n",
    "\n",
    "path_list = os.listdir(path)\n",
    "\n",
    "entity_class = {}\n",
    "\n",
    "for p in path_list:\n",
    "\tdir_path = os.path.join(path, p)\n",
    "\tfor f in os.listdir(dir_path):\n",
    "\t\tdata_write = []\n",
    "\t\tfile_flag = True\n",
    "\t\tfile_dir = os.path.join(dir_path, f)\n",
    "\n",
    "\t\twith open(file_dir, 'r') as file:\n",
    "\t\t    # read a list of lines into data\n",
    "\t\t\tdata = file.readlines()\n",
    "\n",
    "\t\tfor i in range(len(data)):\n",
    "\t\t\tll = data[i].split('\\t')\n",
    "\t\t\tif (len(ll) > 4):\n",
    "\t\t\t\tfile_flag = False\n",
    "\t\t\ttry:\n",
    "\t\t\t\tclass_id = entity_class[ll[1]]\n",
    "\t\t\texcept:\n",
    "\t\t\t\tentity_class[ll[1]] = str(np.random.randint(1, 10))\n",
    "\t\t\t\tclass_id = entity_class[ll[1]]\n",
    "\t\t\tll.insert(2, class_id)\n",
    "\t\t\tdata_write.append('\\t'.join(ll))\n",
    "\n",
    "\t\twith open(file_dir, 'w') as file:\n",
    "\t\t\tif file_flag:\n",
    "\t\t\t\tdata = file.writelines(data_write)"
   ]
  }
 ],
 "metadata": {
  "kernelspec": {
   "display_name": "Reach",
   "language": "python",
   "name": "python3"
  },
  "language_info": {
   "codemirror_mode": {
    "name": "ipython",
    "version": 3
   },
   "file_extension": ".py",
   "mimetype": "text/x-python",
   "name": "python",
   "nbconvert_exporter": "python",
   "pygments_lexer": "ipython3",
   "version": "3.11.9"
  }
 },
 "nbformat": 4,
 "nbformat_minor": 2
}
