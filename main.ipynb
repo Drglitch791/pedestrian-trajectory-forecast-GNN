{
 "cells": [
  {
   "cell_type": "code",
   "execution_count": null,
   "metadata": {},
   "outputs": [],
   "source": [
    "from dataloader import TrajectoryDataset\n",
    "\n",
    "dataset = TrajectoryDataset('./datasets/eth/train')"
   ]
  }
 ],
 "metadata": {
  "kernelspec": {
   "display_name": "Reach",
   "language": "python",
   "name": "python3"
  },
  "language_info": {
   "codemirror_mode": {
    "name": "ipython",
    "version": 3
   },
   "file_extension": ".py",
   "mimetype": "text/x-python",
   "name": "python",
   "nbconvert_exporter": "python",
   "pygments_lexer": "ipython3",
   "version": "3.11.9"
  }
 },
 "nbformat": 4,
 "nbformat_minor": 2
}
