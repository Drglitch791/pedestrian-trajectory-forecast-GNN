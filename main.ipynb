{
 "cells": [
  {
   "cell_type": "code",
   "execution_count": 1,
   "metadata": {},
   "outputs": [
    {
     "name": "stdout",
     "output_type": "stream",
     "text": [
      "[[ 0.000e+00  1.000e+00  2.000e+00  1.410e+00 -5.680e+00]\n",
      " [ 0.000e+00  2.000e+00  6.000e+00  5.100e-01 -6.940e+00]\n",
      " [ 0.000e+00  3.000e+00  5.000e+00  2.300e+00 -4.590e+00]\n",
      " ...\n",
      " [ 1.439e+04  3.330e+02  2.000e+00 -1.900e-01 -3.620e+00]\n",
      " [ 1.439e+04  3.340e+02  3.000e+00  9.600e-01 -1.740e+00]\n",
      " [ 1.439e+04  3.350e+02  2.000e+00  1.090e+00  2.950e+00]]\n"
     ]
    }
   ],
   "source": [
    "from dataloader import TrajectoryDataset\n",
    "\n",
    "dataset = TrajectoryDataset(data_dir='./datasets/eth/train', obs_len=8, pred_len=12, delim='\\t')"
   ]
  },
  {
   "cell_type": "code",
   "execution_count": null,
   "metadata": {},
   "outputs": [],
   "source": []
  }
 ],
 "metadata": {
  "kernelspec": {
   "display_name": "Reach",
   "language": "python",
   "name": "python3"
  },
  "language_info": {
   "codemirror_mode": {
    "name": "ipython",
    "version": 3
   },
   "file_extension": ".py",
   "mimetype": "text/x-python",
   "name": "python",
   "nbconvert_exporter": "python",
   "pygments_lexer": "ipython3",
   "version": "3.11.9"
  }
 },
 "nbformat": 4,
 "nbformat_minor": 2
}
